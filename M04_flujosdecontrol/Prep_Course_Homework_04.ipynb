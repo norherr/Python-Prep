{
 "cells": [
  {
   "attachments": {},
   "cell_type": "markdown",
   "metadata": {},
   "source": [
    "## Flujos de Control"
   ]
  },
  {
   "attachments": {},
   "cell_type": "markdown",
   "metadata": {},
   "source": [
    "1) Crear una variable que contenga un elemento del conjunto de números enteros y luego imprimir por pantalla si es mayor o menor a cero"
   ]
  },
  {
   "cell_type": "code",
   "execution_count": 2,
   "metadata": {},
   "outputs": [
    {
     "name": "stdout",
     "output_type": "stream",
     "text": [
      "la vble es mayor a cero\n"
     ]
    }
   ],
   "source": [
    "num =3\n",
    "if num > 0:\n",
    "   print (\"la vble es mayor a cero\")\n",
    "elif num < 0:\n",
    "   print (\"la vble es menor a cero\")\n",
    "else:\n",
    "   print(\"la vble es cero\") "
   ]
  },
  {
   "attachments": {},
   "cell_type": "markdown",
   "metadata": {},
   "source": [
    "2) Crear dos variables y un condicional que informe si son del mismo tipo de dato"
   ]
  },
  {
   "cell_type": "code",
   "execution_count": 3,
   "metadata": {},
   "outputs": [
    {
     "name": "stdout",
     "output_type": "stream",
     "text": [
      "las vbles no son del mismo tipo de dato\n"
     ]
    }
   ],
   "source": [
    "num = 3\n",
    "text = \"hola\"\n",
    "if type(num) == type(text):\n",
    "    print(\"las vbles son del mismo tipo de dato\")\n",
    "else:\n",
    "    print(\"las vbles no son del mismo tipo de dato\")"
   ]
  },
  {
   "attachments": {},
   "cell_type": "markdown",
   "metadata": {},
   "source": [
    "3) Para los valores enteros del 1 al 20, imprimir por pantalla si es par o impar"
   ]
  },
  {
   "cell_type": "code",
   "execution_count": 4,
   "metadata": {},
   "outputs": [
    {
     "name": "stdout",
     "output_type": "stream",
     "text": [
      "20 es par\n",
      "19 es impar\n",
      "18 es par\n",
      "17 es impar\n",
      "16 es par\n",
      "15 es impar\n",
      "14 es par\n",
      "13 es impar\n",
      "12 es par\n",
      "11 es impar\n",
      "10 es par\n",
      "9 es impar\n",
      "8 es par\n",
      "7 es impar\n",
      "6 es par\n",
      "5 es impar\n",
      "4 es par\n",
      "3 es impar\n",
      "2 es par\n",
      "1 es impar\n"
     ]
    }
   ],
   "source": [
    "a = 20\n",
    "while a > 0:\n",
    "\n",
    "    b = a % 2\n",
    "    if b == 0:\n",
    "        print (a, \"es par\")\n",
    "    else:\n",
    "        print (a, \"es impar\")    \n",
    "    a=a-1\n",
    "\n",
    "\n"
   ]
  },
  {
   "attachments": {},
   "cell_type": "markdown",
   "metadata": {},
   "source": [
    "4) En un ciclo for mostrar para los valores entre 0 y 5 el resultado de elevarlo a la potencia igual a 3"
   ]
  },
  {
   "cell_type": "code",
   "execution_count": 8,
   "metadata": {},
   "outputs": [
    {
     "name": "stdout",
     "output_type": "stream",
     "text": [
      "El Valor de  0 Elevado a la 3ra potencia es  0\n",
      "El Valor de  1 Elevado a la 3ra potencia es  1\n",
      "El Valor de  2 Elevado a la 3ra potencia es  8\n",
      "El Valor de  3 Elevado a la 3ra potencia es  27\n",
      "El Valor de  4 Elevado a la 3ra potencia es  64\n",
      "El Valor de  5 Elevado a la 3ra potencia es  125\n"
     ]
    }
   ],
   "source": [
    "for i in range(0, 6):\n",
    "    print('El Valor de ', str(i), 'Elevado a la 3ra potencia es ', str(i**3))\n"
   ]
  },
  {
   "attachments": {},
   "cell_type": "markdown",
   "metadata": {},
   "source": [
    "5) Crear una variable que contenga un número entero y realizar un ciclo for la misma cantidad de ciclos"
   ]
  },
  {
   "cell_type": "code",
   "execution_count": 12,
   "metadata": {},
   "outputs": [
    {
     "name": "stdout",
     "output_type": "stream",
     "text": [
      "11\n"
     ]
    }
   ],
   "source": [
    "n = 12\n",
    "for i in range(0, n):\n",
    "    pass\n",
    "print (i)"
   ]
  },
  {
   "attachments": {},
   "cell_type": "markdown",
   "metadata": {},
   "source": [
    "6) Utilizar un ciclo while para realizar el factorial de un número guardado en una variable, sólo si la variable contiene un número entero mayor a 0"
   ]
  },
  {
   "cell_type": "code",
   "execution_count": 14,
   "metadata": {},
   "outputs": [
    {
     "name": "stdout",
     "output_type": "stream",
     "text": [
      "el factorial es : 720\n"
     ]
    }
   ],
   "source": [
    "n = 6\n",
    "if (type(n) == int):\n",
    "    if n>0:\n",
    "        fact = n\n",
    "        while n>2:\n",
    "            n=n-1\n",
    "            fact = fact * n\n",
    "        print (\"el factorial es :\", fact)\n",
    "    else:\n",
    "        print (\"la vble no es mayor a cero\")\n",
    "else:\n",
    "    print (\"la vble no es entero \")"
   ]
  },
  {
   "attachments": {},
   "cell_type": "markdown",
   "metadata": {},
   "source": [
    "7) Crear un ciclo for dentro de un ciclo while"
   ]
  },
  {
   "cell_type": "code",
   "execution_count": 15,
   "metadata": {},
   "outputs": [
    {
     "name": "stdout",
     "output_type": "stream",
     "text": [
      "ciclo while nro  1\n",
      "ciclo for nro  1\n",
      "ciclo while nro  2\n",
      "ciclo for nro  1\n",
      "ciclo for nro  2\n",
      "ciclo while nro  3\n",
      "ciclo for nro  1\n",
      "ciclo for nro  2\n",
      "ciclo for nro  3\n",
      "ciclo while nro  4\n",
      "ciclo for nro  1\n",
      "ciclo for nro  2\n",
      "ciclo for nro  3\n",
      "ciclo for nro  4\n"
     ]
    }
   ],
   "source": [
    "n = 1\n",
    "while n < 5:\n",
    "    print (\"ciclo while nro \", n)\n",
    "    for i in range(1, n+1):\n",
    "        print ('ciclo for nro ', i)\n",
    "    n+=1\n",
    "    "
   ]
  },
  {
   "attachments": {},
   "cell_type": "markdown",
   "metadata": {},
   "source": [
    "8) Crear un ciclo while dentro de un ciclo for"
   ]
  },
  {
   "cell_type": "code",
   "execution_count": 17,
   "metadata": {},
   "outputs": [
    {
     "name": "stdout",
     "output_type": "stream",
     "text": [
      "for nro  1\n",
      "while nro 1\n",
      "for nro  2\n",
      "while nro 1\n",
      "while nro 2\n",
      "for nro  3\n",
      "while nro 1\n",
      "while nro 2\n",
      "while nro 3\n",
      "for nro  4\n",
      "while nro 1\n",
      "while nro 2\n",
      "while nro 3\n",
      "while nro 4\n"
     ]
    }
   ],
   "source": [
    "n = 1\n",
    "for i in range(1,5):\n",
    "    print (\"for nro \", i)\n",
    "    j = 1\n",
    "    while j <= i:\n",
    "        print (f\"while nro {j}\")\n",
    "        j+=1"
   ]
  },
  {
   "attachments": {},
   "cell_type": "markdown",
   "metadata": {},
   "source": [
    "9) Imprimir los números primos existentes entre 0 y 30"
   ]
  },
  {
   "cell_type": "code",
   "execution_count": 18,
   "metadata": {},
   "outputs": [
    {
     "name": "stdout",
     "output_type": "stream",
     "text": [
      "0\n",
      "1\n",
      "2\n",
      "3\n",
      "5\n",
      "7\n",
      "11\n",
      "13\n",
      "17\n",
      "19\n",
      "23\n",
      "29\n"
     ]
    }
   ],
   "source": [
    "n = 0\n",
    "primo = True\n",
    "while (n <= 30):\n",
    "    for i in range(2,n):\n",
    "        if (n % i == 0):\n",
    "            primo = False\n",
    "    if primo:\n",
    "        print(n)\n",
    "    else:\n",
    "        primo=True\n",
    "    n+=1\n"
   ]
  },
  {
   "attachments": {},
   "cell_type": "markdown",
   "metadata": {},
   "source": [
    "10) ¿Se puede mejorar el proceso del punto 9? Utilizar las sentencias break y/ó continue para tal fin"
   ]
  },
  {
   "cell_type": "code",
   "execution_count": null,
   "metadata": {},
   "outputs": [],
   "source": []
  },
  {
   "attachments": {},
   "cell_type": "markdown",
   "metadata": {},
   "source": [
    "11) En los puntos 9 y 10, se diseño un código que encuentra números primos y además se lo optimizó. ¿Es posible saber en qué medida se optimizó?"
   ]
  },
  {
   "cell_type": "code",
   "execution_count": null,
   "metadata": {},
   "outputs": [],
   "source": []
  },
  {
   "attachments": {},
   "cell_type": "markdown",
   "metadata": {},
   "source": [
    "12) Aplicando continue, armar un ciclo while que solo imprima los valores divisibles por 12, dentro del rango de números de 100 a 300"
   ]
  },
  {
   "cell_type": "code",
   "execution_count": null,
   "metadata": {},
   "outputs": [],
   "source": []
  },
  {
   "attachments": {},
   "cell_type": "markdown",
   "metadata": {},
   "source": [
    "13) Utilizar la función **input()** que permite hacer ingresos por teclado, para encontrar números primos y dar la opción al usario de buscar el siguiente"
   ]
  },
  {
   "cell_type": "code",
   "execution_count": null,
   "metadata": {},
   "outputs": [],
   "source": []
  },
  {
   "attachments": {},
   "cell_type": "markdown",
   "metadata": {},
   "source": [
    "14) Crear un ciclo while que encuentre dentro del rango de 100 a 300 el primer número divisible por 3 y además múltiplo de 6"
   ]
  },
  {
   "cell_type": "code",
   "execution_count": null,
   "metadata": {},
   "outputs": [],
   "source": []
  }
 ],
 "metadata": {
  "interpreter": {
   "hash": "c85384e4cb51c8b72350f3a8712cc8351fdc3955e32a27f9b60c6242ab125f01"
  },
  "kernelspec": {
   "display_name": "Python 3 (ipykernel)",
   "language": "python",
   "name": "python3"
  },
  "language_info": {
   "codemirror_mode": {
    "name": "ipython",
    "version": 3
   },
   "file_extension": ".py",
   "mimetype": "text/x-python",
   "name": "python",
   "nbconvert_exporter": "python",
   "pygments_lexer": "ipython3",
   "version": "3.11.5"
  }
 },
 "nbformat": 4,
 "nbformat_minor": 4
}
